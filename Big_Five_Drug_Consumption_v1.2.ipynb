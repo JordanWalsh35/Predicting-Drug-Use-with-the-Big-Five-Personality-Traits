{
 "cells": [
  {
   "cell_type": "markdown",
   "metadata": {},
   "source": [
    "Import Data & Check for Missing Values"
   ]
  },
  {
   "cell_type": "code",
   "execution_count": 1,
   "metadata": {},
   "outputs": [
    {
     "data": {
      "text/html": [
       "<div>\n",
       "<style scoped>\n",
       "    .dataframe tbody tr th:only-of-type {\n",
       "        vertical-align: middle;\n",
       "    }\n",
       "\n",
       "    .dataframe tbody tr th {\n",
       "        vertical-align: top;\n",
       "    }\n",
       "\n",
       "    .dataframe thead th {\n",
       "        text-align: right;\n",
       "    }\n",
       "</style>\n",
       "<table border=\"1\" class=\"dataframe\">\n",
       "  <thead>\n",
       "    <tr style=\"text-align: right;\">\n",
       "      <th></th>\n",
       "      <th>ID</th>\n",
       "      <th>Age</th>\n",
       "      <th>Gender</th>\n",
       "      <th>Education</th>\n",
       "      <th>Country</th>\n",
       "      <th>Ethnicity</th>\n",
       "      <th>Nscore</th>\n",
       "      <th>Escore</th>\n",
       "      <th>Oscore</th>\n",
       "      <th>AScore</th>\n",
       "      <th>...</th>\n",
       "      <th>Ecstasy</th>\n",
       "      <th>Heroin</th>\n",
       "      <th>Ketamine</th>\n",
       "      <th>Legalh</th>\n",
       "      <th>LSD</th>\n",
       "      <th>Meth</th>\n",
       "      <th>Mushrooms</th>\n",
       "      <th>Nicotine</th>\n",
       "      <th>Semer</th>\n",
       "      <th>VSA</th>\n",
       "    </tr>\n",
       "  </thead>\n",
       "  <tbody>\n",
       "    <tr>\n",
       "      <th>0</th>\n",
       "      <td>1</td>\n",
       "      <td>0.49788</td>\n",
       "      <td>0.48246</td>\n",
       "      <td>-0.05921</td>\n",
       "      <td>0.96082</td>\n",
       "      <td>0.12600</td>\n",
       "      <td>0.31287</td>\n",
       "      <td>-0.57545</td>\n",
       "      <td>-0.58331</td>\n",
       "      <td>-0.91699</td>\n",
       "      <td>...</td>\n",
       "      <td>CL0</td>\n",
       "      <td>CL0</td>\n",
       "      <td>CL0</td>\n",
       "      <td>CL0</td>\n",
       "      <td>CL0</td>\n",
       "      <td>CL0</td>\n",
       "      <td>CL0</td>\n",
       "      <td>CL2</td>\n",
       "      <td>CL0</td>\n",
       "      <td>CL0</td>\n",
       "    </tr>\n",
       "    <tr>\n",
       "      <th>1</th>\n",
       "      <td>2</td>\n",
       "      <td>-0.07854</td>\n",
       "      <td>-0.48246</td>\n",
       "      <td>1.98437</td>\n",
       "      <td>0.96082</td>\n",
       "      <td>-0.31685</td>\n",
       "      <td>-0.67825</td>\n",
       "      <td>1.93886</td>\n",
       "      <td>1.43533</td>\n",
       "      <td>0.76096</td>\n",
       "      <td>...</td>\n",
       "      <td>CL4</td>\n",
       "      <td>CL0</td>\n",
       "      <td>CL2</td>\n",
       "      <td>CL0</td>\n",
       "      <td>CL2</td>\n",
       "      <td>CL3</td>\n",
       "      <td>CL0</td>\n",
       "      <td>CL4</td>\n",
       "      <td>CL0</td>\n",
       "      <td>CL0</td>\n",
       "    </tr>\n",
       "    <tr>\n",
       "      <th>2</th>\n",
       "      <td>3</td>\n",
       "      <td>0.49788</td>\n",
       "      <td>-0.48246</td>\n",
       "      <td>-0.05921</td>\n",
       "      <td>0.96082</td>\n",
       "      <td>-0.31685</td>\n",
       "      <td>-0.46725</td>\n",
       "      <td>0.80523</td>\n",
       "      <td>-0.84732</td>\n",
       "      <td>-1.62090</td>\n",
       "      <td>...</td>\n",
       "      <td>CL0</td>\n",
       "      <td>CL0</td>\n",
       "      <td>CL0</td>\n",
       "      <td>CL0</td>\n",
       "      <td>CL0</td>\n",
       "      <td>CL0</td>\n",
       "      <td>CL1</td>\n",
       "      <td>CL0</td>\n",
       "      <td>CL0</td>\n",
       "      <td>CL0</td>\n",
       "    </tr>\n",
       "    <tr>\n",
       "      <th>3</th>\n",
       "      <td>4</td>\n",
       "      <td>-0.95197</td>\n",
       "      <td>0.48246</td>\n",
       "      <td>1.16365</td>\n",
       "      <td>0.96082</td>\n",
       "      <td>-0.31685</td>\n",
       "      <td>-0.14882</td>\n",
       "      <td>-0.80615</td>\n",
       "      <td>-0.01928</td>\n",
       "      <td>0.59042</td>\n",
       "      <td>...</td>\n",
       "      <td>CL0</td>\n",
       "      <td>CL0</td>\n",
       "      <td>CL2</td>\n",
       "      <td>CL0</td>\n",
       "      <td>CL0</td>\n",
       "      <td>CL0</td>\n",
       "      <td>CL0</td>\n",
       "      <td>CL2</td>\n",
       "      <td>CL0</td>\n",
       "      <td>CL0</td>\n",
       "    </tr>\n",
       "    <tr>\n",
       "      <th>4</th>\n",
       "      <td>5</td>\n",
       "      <td>0.49788</td>\n",
       "      <td>0.48246</td>\n",
       "      <td>1.98437</td>\n",
       "      <td>0.96082</td>\n",
       "      <td>-0.31685</td>\n",
       "      <td>0.73545</td>\n",
       "      <td>-1.63340</td>\n",
       "      <td>-0.45174</td>\n",
       "      <td>-0.30172</td>\n",
       "      <td>...</td>\n",
       "      <td>CL1</td>\n",
       "      <td>CL0</td>\n",
       "      <td>CL0</td>\n",
       "      <td>CL1</td>\n",
       "      <td>CL0</td>\n",
       "      <td>CL0</td>\n",
       "      <td>CL2</td>\n",
       "      <td>CL2</td>\n",
       "      <td>CL0</td>\n",
       "      <td>CL0</td>\n",
       "    </tr>\n",
       "  </tbody>\n",
       "</table>\n",
       "<p>5 rows × 32 columns</p>\n",
       "</div>"
      ],
      "text/plain": [
       "   ID      Age   Gender  Education  Country  Ethnicity   Nscore   Escore  \\\n",
       "0   1  0.49788  0.48246   -0.05921  0.96082    0.12600  0.31287 -0.57545   \n",
       "1   2 -0.07854 -0.48246    1.98437  0.96082   -0.31685 -0.67825  1.93886   \n",
       "2   3  0.49788 -0.48246   -0.05921  0.96082   -0.31685 -0.46725  0.80523   \n",
       "3   4 -0.95197  0.48246    1.16365  0.96082   -0.31685 -0.14882 -0.80615   \n",
       "4   5  0.49788  0.48246    1.98437  0.96082   -0.31685  0.73545 -1.63340   \n",
       "\n",
       "    Oscore   AScore  ...  Ecstasy  Heroin  Ketamine Legalh  LSD Meth  \\\n",
       "0 -0.58331 -0.91699  ...      CL0     CL0       CL0    CL0  CL0  CL0   \n",
       "1  1.43533  0.76096  ...      CL4     CL0       CL2    CL0  CL2  CL3   \n",
       "2 -0.84732 -1.62090  ...      CL0     CL0       CL0    CL0  CL0  CL0   \n",
       "3 -0.01928  0.59042  ...      CL0     CL0       CL2    CL0  CL0  CL0   \n",
       "4 -0.45174 -0.30172  ...      CL1     CL0       CL0    CL1  CL0  CL0   \n",
       "\n",
       "  Mushrooms Nicotine Semer  VSA  \n",
       "0       CL0      CL2   CL0  CL0  \n",
       "1       CL0      CL4   CL0  CL0  \n",
       "2       CL1      CL0   CL0  CL0  \n",
       "3       CL0      CL2   CL0  CL0  \n",
       "4       CL2      CL2   CL0  CL0  \n",
       "\n",
       "[5 rows x 32 columns]"
      ]
     },
     "execution_count": 1,
     "metadata": {},
     "output_type": "execute_result"
    }
   ],
   "source": [
    "import pandas as pd\n",
    "import numpy as np\n",
    "from matplotlib import pyplot as plt\n",
    "import statistics as stat\n",
    "from scipy import stats\n",
    "\n",
    "missing_values = ['na','NA','N/A','n/a']\n",
    "data = pd.read_csv(\"drug_consumption.data\",header=None, na_values=missing_values)\n",
    "header_cols = ['ID','Age','Gender','Education','Country','Ethnicity','Nscore','Escore','Oscore','AScore','Cscore',\n",
    "    'Impulsive','SS','Alcohol','Amphet','Amyl','Benzos','Caff','Cannabis','Choc','Coke','Crack','Ecstasy','Heroin',\n",
    "    'Ketamine','Legalh','LSD','Meth','Mushrooms','Nicotine','Semer','VSA'\n",
    "    ]\n",
    "data.columns = header_cols\n",
    "\n",
    "data.head()"
   ]
  },
  {
   "cell_type": "code",
   "execution_count": 2,
   "metadata": {},
   "outputs": [
    {
     "name": "stdout",
     "output_type": "stream",
     "text": [
      "0\n"
     ]
    }
   ],
   "source": [
    "# Check for missing values\n",
    "chk = 0\n",
    "for head in header_cols:\n",
    "    null_val = data[head].isnull()\n",
    "    for j in null_val:\n",
    "        if j == True:\n",
    "            chk = chk + 1\n",
    "print(chk)"
   ]
  },
  {
   "cell_type": "code",
   "execution_count": 3,
   "metadata": {},
   "outputs": [],
   "source": [
    "# Dictionaries for categorical variables\n",
    "Nscore_xl = pd.read_excel('Dictionaries.xlsx', sheet_name = 'Nscores')\n",
    "Nscore_xl = Nscore_xl.iloc[:, 1:]\n",
    "Nscore_dict = Nscore_xl.set_index('Score').to_dict()['Value']\n",
    "\n",
    "Escore_xl = pd.read_excel('Dictionaries.xlsx', sheet_name = 'Escores')\n",
    "Escore_xl = Escore_xl.iloc[:, 1:]\n",
    "Escore_dict = Escore_xl.set_index('Score').to_dict()['Value']\n",
    "\n",
    "Oscore_xl = pd.read_excel('Dictionaries.xlsx', sheet_name = 'Oscores')\n",
    "Oscore_xl = Oscore_xl.iloc[:, 1:]\n",
    "Oscore_dict = Oscore_xl.set_index('Score').to_dict()['Value']\n",
    "\n",
    "Ascore_xl = pd.read_excel('Dictionaries.xlsx', sheet_name = 'Ascores')\n",
    "Ascore_xl = Ascore_xl.iloc[:, 1:]\n",
    "Ascore_dict = Ascore_xl.set_index('Score').to_dict()['Value']\n",
    "\n",
    "Cscore_xl = pd.read_excel('Dictionaries.xlsx', sheet_name = 'Cscores')\n",
    "Cscore_xl = Cscore_xl.iloc[:, 1:]\n",
    "Cscore_dict = Cscore_xl.set_index('Score').to_dict()['Value']\n",
    "\n",
    "Age_xl = pd.read_excel('Dictionaries.xlsx', sheet_name = 'Age')\n",
    "Age_xl = Age_xl.iloc[:, 1:]\n",
    "Age_dict = Age_xl.set_index('Score').to_dict()['Value']\n",
    "\n",
    "Edu_xl = pd.read_excel('Dictionaries.xlsx', sheet_name = 'Education')\n",
    "Edu_xl = Edu_xl.iloc[:, 1:]\n",
    "Edu_dict = Edu_xl.set_index('Score').to_dict()['Value']\n",
    "\n",
    "Country_xl = pd.read_excel('Dictionaries.xlsx', sheet_name = 'Country')\n",
    "Country_xl = Country_xl.iloc[:, 1:]\n",
    "Country_dict = Country_xl.set_index('Score').to_dict()['Value']\n",
    "\n",
    "Eth_xl = pd.read_excel('Dictionaries.xlsx', sheet_name = 'Ethnicity')\n",
    "Eth_xl = Eth_xl.iloc[:, 1:]\n",
    "Eth_dict = Eth_xl.set_index('Score').to_dict()['Value']"
   ]
  },
  {
   "cell_type": "code",
   "execution_count": 4,
   "metadata": {},
   "outputs": [
    {
     "data": {
      "text/html": [
       "<div>\n",
       "<style scoped>\n",
       "    .dataframe tbody tr th:only-of-type {\n",
       "        vertical-align: middle;\n",
       "    }\n",
       "\n",
       "    .dataframe tbody tr th {\n",
       "        vertical-align: top;\n",
       "    }\n",
       "\n",
       "    .dataframe thead th {\n",
       "        text-align: right;\n",
       "    }\n",
       "</style>\n",
       "<table border=\"1\" class=\"dataframe\">\n",
       "  <thead>\n",
       "    <tr style=\"text-align: right;\">\n",
       "      <th></th>\n",
       "      <th>ID</th>\n",
       "      <th>Age</th>\n",
       "      <th>Gender</th>\n",
       "      <th>Education</th>\n",
       "      <th>Country</th>\n",
       "      <th>Ethnicity</th>\n",
       "      <th>Nscore</th>\n",
       "      <th>Escore</th>\n",
       "      <th>Oscore</th>\n",
       "      <th>AScore</th>\n",
       "      <th>...</th>\n",
       "      <th>Ecstasy</th>\n",
       "      <th>Heroin</th>\n",
       "      <th>Ketamine</th>\n",
       "      <th>Legalh</th>\n",
       "      <th>LSD</th>\n",
       "      <th>Meth</th>\n",
       "      <th>Mushrooms</th>\n",
       "      <th>Nicotine</th>\n",
       "      <th>Semer</th>\n",
       "      <th>VSA</th>\n",
       "    </tr>\n",
       "  </thead>\n",
       "  <tbody>\n",
       "    <tr>\n",
       "      <th>0</th>\n",
       "      <td>1</td>\n",
       "      <td>35-44</td>\n",
       "      <td>F</td>\n",
       "      <td>Professional certificate/ diploma</td>\n",
       "      <td>UK</td>\n",
       "      <td>Mixed-White/Asian</td>\n",
       "      <td>39.0</td>\n",
       "      <td>36.0</td>\n",
       "      <td>42.0</td>\n",
       "      <td>37.0</td>\n",
       "      <td>...</td>\n",
       "      <td>CL0</td>\n",
       "      <td>CL0</td>\n",
       "      <td>CL0</td>\n",
       "      <td>CL0</td>\n",
       "      <td>CL0</td>\n",
       "      <td>CL0</td>\n",
       "      <td>CL0</td>\n",
       "      <td>CL2</td>\n",
       "      <td>CL0</td>\n",
       "      <td>CL0</td>\n",
       "    </tr>\n",
       "    <tr>\n",
       "      <th>1</th>\n",
       "      <td>2</td>\n",
       "      <td>25-34</td>\n",
       "      <td>M</td>\n",
       "      <td>Doctorate degree</td>\n",
       "      <td>UK</td>\n",
       "      <td>White</td>\n",
       "      <td>29.0</td>\n",
       "      <td>52.0</td>\n",
       "      <td>55.0</td>\n",
       "      <td>48.0</td>\n",
       "      <td>...</td>\n",
       "      <td>CL4</td>\n",
       "      <td>CL0</td>\n",
       "      <td>CL2</td>\n",
       "      <td>CL0</td>\n",
       "      <td>CL2</td>\n",
       "      <td>CL3</td>\n",
       "      <td>CL0</td>\n",
       "      <td>CL4</td>\n",
       "      <td>CL0</td>\n",
       "      <td>CL0</td>\n",
       "    </tr>\n",
       "    <tr>\n",
       "      <th>2</th>\n",
       "      <td>3</td>\n",
       "      <td>35-44</td>\n",
       "      <td>M</td>\n",
       "      <td>Professional certificate/ diploma</td>\n",
       "      <td>UK</td>\n",
       "      <td>White</td>\n",
       "      <td>31.0</td>\n",
       "      <td>45.0</td>\n",
       "      <td>40.0</td>\n",
       "      <td>32.0</td>\n",
       "      <td>...</td>\n",
       "      <td>CL0</td>\n",
       "      <td>CL0</td>\n",
       "      <td>CL0</td>\n",
       "      <td>CL0</td>\n",
       "      <td>CL0</td>\n",
       "      <td>CL0</td>\n",
       "      <td>CL1</td>\n",
       "      <td>CL0</td>\n",
       "      <td>CL0</td>\n",
       "      <td>CL0</td>\n",
       "    </tr>\n",
       "    <tr>\n",
       "      <th>3</th>\n",
       "      <td>4</td>\n",
       "      <td>18-24</td>\n",
       "      <td>F</td>\n",
       "      <td>Masters degree</td>\n",
       "      <td>UK</td>\n",
       "      <td>White</td>\n",
       "      <td>34.0</td>\n",
       "      <td>34.0</td>\n",
       "      <td>46.0</td>\n",
       "      <td>47.0</td>\n",
       "      <td>...</td>\n",
       "      <td>CL0</td>\n",
       "      <td>CL0</td>\n",
       "      <td>CL2</td>\n",
       "      <td>CL0</td>\n",
       "      <td>CL0</td>\n",
       "      <td>CL0</td>\n",
       "      <td>CL0</td>\n",
       "      <td>CL2</td>\n",
       "      <td>CL0</td>\n",
       "      <td>CL0</td>\n",
       "    </tr>\n",
       "    <tr>\n",
       "      <th>4</th>\n",
       "      <td>5</td>\n",
       "      <td>35-44</td>\n",
       "      <td>F</td>\n",
       "      <td>Doctorate degree</td>\n",
       "      <td>UK</td>\n",
       "      <td>White</td>\n",
       "      <td>43.0</td>\n",
       "      <td>28.0</td>\n",
       "      <td>43.0</td>\n",
       "      <td>41.0</td>\n",
       "      <td>...</td>\n",
       "      <td>CL1</td>\n",
       "      <td>CL0</td>\n",
       "      <td>CL0</td>\n",
       "      <td>CL1</td>\n",
       "      <td>CL0</td>\n",
       "      <td>CL0</td>\n",
       "      <td>CL2</td>\n",
       "      <td>CL2</td>\n",
       "      <td>CL0</td>\n",
       "      <td>CL0</td>\n",
       "    </tr>\n",
       "  </tbody>\n",
       "</table>\n",
       "<p>5 rows × 32 columns</p>\n",
       "</div>"
      ],
      "text/plain": [
       "   ID    Age Gender                          Education Country  \\\n",
       "0   1  35-44      F  Professional certificate/ diploma      UK   \n",
       "1   2  25-34      M                   Doctorate degree      UK   \n",
       "2   3  35-44      M  Professional certificate/ diploma      UK   \n",
       "3   4  18-24      F                     Masters degree      UK   \n",
       "4   5  35-44      F                   Doctorate degree      UK   \n",
       "\n",
       "           Ethnicity  Nscore  Escore  Oscore  AScore  ...  Ecstasy  Heroin  \\\n",
       "0  Mixed-White/Asian    39.0    36.0    42.0    37.0  ...      CL0     CL0   \n",
       "1              White    29.0    52.0    55.0    48.0  ...      CL4     CL0   \n",
       "2              White    31.0    45.0    40.0    32.0  ...      CL0     CL0   \n",
       "3              White    34.0    34.0    46.0    47.0  ...      CL0     CL0   \n",
       "4              White    43.0    28.0    43.0    41.0  ...      CL1     CL0   \n",
       "\n",
       "   Ketamine Legalh  LSD Meth Mushrooms Nicotine Semer  VSA  \n",
       "0       CL0    CL0  CL0  CL0       CL0      CL2   CL0  CL0  \n",
       "1       CL2    CL0  CL2  CL3       CL0      CL4   CL0  CL0  \n",
       "2       CL0    CL0  CL0  CL0       CL1      CL0   CL0  CL0  \n",
       "3       CL2    CL0  CL0  CL0       CL0      CL2   CL0  CL0  \n",
       "4       CL0    CL1  CL0  CL0       CL2      CL2   CL0  CL0  \n",
       "\n",
       "[5 rows x 32 columns]"
      ]
     },
     "execution_count": 4,
     "metadata": {},
     "output_type": "execute_result"
    }
   ],
   "source": [
    "# Convert Scores via Dictionaries to calculate Descriptive Stats\n",
    "orig_data = data.copy()\n",
    "for i in range(0, len(data)):\n",
    "    for keys, values in Nscore_dict.items():\n",
    "        if orig_data['Nscore'][i] == values:\n",
    "            orig_data['Nscore'].iat[i] = keys\n",
    "    for keys, values in Escore_dict.items():\n",
    "        if orig_data['Escore'][i] == values:\n",
    "            orig_data['Escore'].iat[i] = keys\n",
    "    for keys, values in Ascore_dict.items():\n",
    "        if orig_data['AScore'][i] == values:\n",
    "            orig_data['AScore'].iat[i] = keys\n",
    "    for keys, values in Oscore_dict.items():\n",
    "        if orig_data['Oscore'][i] == values:\n",
    "            orig_data['Oscore'].iat[i] = keys\n",
    "    for keys, values in Cscore_dict.items():\n",
    "        if orig_data['Cscore'][i] == values:\n",
    "            orig_data['Cscore'].iat[i] = keys\n",
    "    for keys, values in Age_dict.items():\n",
    "        if orig_data['Age'][i] == values:\n",
    "            orig_data['Age'].iat[i] = keys\n",
    "    for keys, values in Edu_dict.items():\n",
    "        if orig_data['Education'][i] == values:\n",
    "            orig_data['Education'].iat[i] = keys\n",
    "    for keys, values in Country_dict.items():\n",
    "        if orig_data['Country'][i] == values:\n",
    "            orig_data['Country'].iat[i] = keys\n",
    "    for keys, values in Eth_dict.items():\n",
    "        if orig_data['Ethnicity'][i] == values:\n",
    "            orig_data['Ethnicity'].iat[i] = keys\n",
    "    if orig_data['Gender'][i] == 0.48246:\n",
    "            orig_data['Gender'].iat[i] = 'F'\n",
    "    else:\n",
    "         orig_data['Gender'].iat[i] = 'M'\n",
    "            \n",
    "orig_data.head()"
   ]
  },
  {
   "cell_type": "markdown",
   "metadata": {},
   "source": [
    "Splitting the Dataset"
   ]
  },
  {
   "cell_type": "code",
   "execution_count": 5,
   "metadata": {},
   "outputs": [],
   "source": [
    "# Dataset 1: Tried illegal drugs at least once\n",
    "\n",
    "df1 = data.copy()\n",
    "df1 = df1.drop(columns=['ID','Country','Ethnicity'])\n",
    "df1['Try_Drug'] = ''\n",
    "TryD = df1['Try_Drug']\n",
    "\n",
    "drugs = ['Amphet','Amyl','Benzos','Cannabis','Coke','Crack','Ecstasy','Heroin','Ketamine','LSD','Meth','Mushrooms','VSA']\n",
    "\n",
    "for i in range(0, len(df1)):\n",
    "    tot = 0\n",
    "    for j in drugs:\n",
    "        if df1[j][i] != \"CL0\":\n",
    "            tot = tot + 1\n",
    "        if tot > 0:\n",
    "            TryD.iat[i] = 1\n",
    "        else:\n",
    "            TryD.iat[i] = 0       \n",
    "\n",
    "# Separate data for t-test\n",
    "Nvr_Tried = pd.DataFrame().assign(Nscore = orig_data['Nscore'], Escore = orig_data['Escore'], Oscore = orig_data['Oscore'], Ascore = orig_data['AScore'], Cscore = orig_data['Cscore'], \n",
    "            Impulsive = orig_data['Impulsive'], SS = orig_data['SS'] ,Try_Drug = df1['Try_Drug'])\n",
    "\n",
    "Tried = Nvr_Tried.loc[Nvr_Tried['Try_Drug'] == 1]\n",
    "Tried_Samp = Tried.sample(n=300)\n",
    "Nvr_Tried = Nvr_Tried.loc[Nvr_Tried['Try_Drug'] == 0]"
   ]
  },
  {
   "cell_type": "code",
   "execution_count": 6,
   "metadata": {},
   "outputs": [],
   "source": [
    "# Dataset 2: Used illegal drugs in past year\n",
    "\n",
    "df2 = data.copy()\n",
    "df2 = df2.drop(columns=['ID','Country','Ethnicity'])\n",
    "df2['Try_Drug'] = ''\n",
    "TryD2 = df2['Try_Drug']\n",
    "\n",
    "for i in range(0, len(df2)):\n",
    "    tot = 0\n",
    "    for j in drugs:\n",
    "        if df2[j][i] == \"CL3\" or df2[j][i] == \"CL4\" or df2[j][i] == \"CL5\" or df2[j][i] == \"CL6\":\n",
    "            tot = tot + 1\n",
    "        if tot > 0:\n",
    "            TryD2.iat[i] = 1\n",
    "        else:\n",
    "            TryD2.iat[i] = 0    \n",
    "\n",
    "# Separate data for t-test\n",
    "Recent_N = pd.DataFrame().assign(Nscore = orig_data['Nscore'], Escore = orig_data['Escore'], Oscore = orig_data['Oscore'], Ascore = orig_data['AScore'], Cscore = orig_data['Cscore'], \n",
    "            Impulsive = orig_data['Impulsive'], SS = orig_data['SS'] ,Try_Drug = df2['Try_Drug'])\n",
    "\n",
    "Recent_Y = Recent_N.loc[Recent_N['Try_Drug'] == 1]\n",
    "Recent_Y_Samp = Recent_Y.sample(n=711)\n",
    "Recent_N = Recent_N.loc[Recent_N['Try_Drug'] == 0]   "
   ]
  },
  {
   "cell_type": "code",
   "execution_count": 7,
   "metadata": {},
   "outputs": [],
   "source": [
    "# Dataset 3: Tried hard drugs (heroin, crack or meth) at least once\n",
    "\n",
    "df3 = data.copy()\n",
    "df3 = df3.drop(columns=['ID','Country','Ethnicity'])\n",
    "df3['Try_Drug'] = ''\n",
    "TryD3 = df3['Try_Drug']\n",
    "\n",
    "for i in range(0, len(df3)):\n",
    "    if (df3['Heroin'][i] != 'CL0' or df3['Meth'][i] != 'CL0' or df3['Crack'][i] != 'CL0'):\n",
    "        TryD3.iat[i] = 1\n",
    "    else:\n",
    "        TryD3.iat[i] = 0 \n",
    "\n",
    "# Separate data for t-test\n",
    "Heavy_N = pd.DataFrame().assign(Nscore = orig_data['Nscore'], Escore = orig_data['Escore'], Oscore = orig_data['Oscore'], Ascore = orig_data['AScore'], Cscore = orig_data['Cscore'], \n",
    "            Impulsive = orig_data['Impulsive'], SS = orig_data['SS'] ,Try_Drug = df3['Try_Drug'])\n",
    "\n",
    "Heavy_Y = Heavy_N.loc[Heavy_N['Try_Drug'] == 1]\n",
    "Heavy_N = Heavy_N.loc[Heavy_N['Try_Drug'] == 0] \n",
    "Heavy_N_Samp = Heavy_N.sample(n=579)"
   ]
  },
  {
   "cell_type": "code",
   "execution_count": 8,
   "metadata": {},
   "outputs": [
    {
     "name": "stdout",
     "output_type": "stream",
     "text": [
      "1585\n",
      "1174\n",
      "579\n"
     ]
    }
   ],
   "source": [
    "# Sense Check\n",
    "print(sum(TryD))\n",
    "print(sum(TryD2))\n",
    "print(sum(TryD3))"
   ]
  },
  {
   "cell_type": "markdown",
   "metadata": {},
   "source": [
    "Descriptive Statistics"
   ]
  },
  {
   "cell_type": "code",
   "execution_count": 9,
   "metadata": {},
   "outputs": [
    {
     "name": "stdout",
     "output_type": "stream",
     "text": [
      "Means:\n",
      "Nscore: 35.92\n",
      "Escore: 39.58\n",
      "Oscore: 45.76\n",
      "Ascore: 42.87\n",
      "Cscore: 41.44\n",
      "\n",
      "Standard Deviations:\n",
      "Nscore: 9.14\n",
      "Escore: 6.77\n",
      "Oscore: 6.58\n",
      "Ascore: 6.44\n",
      "Cscore: 6.97\n"
     ]
    }
   ],
   "source": [
    "# Descriptive Statistics of Personality Traits\n",
    "\n",
    "# Means\n",
    "print(\"Means:\")\n",
    "print(\"Nscore: {:.2f}\".format(orig_data['Nscore'].mean()))\n",
    "print(\"Escore: {:.2f}\".format(orig_data['Escore'].mean()))\n",
    "print(\"Oscore: {:.2f}\".format(orig_data['Oscore'].mean()))\n",
    "print(\"Ascore: {:.2f}\".format(orig_data['AScore'].mean()))\n",
    "print(\"Cscore: {:.2f}\".format(orig_data['Cscore'].mean()))\n",
    "\n",
    "# Standard Devs\n",
    "print(\"\\nStandard Deviations:\")\n",
    "print(\"Nscore: {:.2f}\".format(orig_data['Nscore'].std()))\n",
    "print(\"Escore: {:.2f}\".format(orig_data['Escore'].std()))\n",
    "print(\"Oscore: {:.2f}\".format(orig_data['Oscore'].std()))\n",
    "print(\"Ascore: {:.2f}\".format(orig_data['AScore'].std()))\n",
    "print(\"Cscore: {:.2f}\".format(orig_data['Cscore'].std()))"
   ]
  },
  {
   "cell_type": "markdown",
   "metadata": {},
   "source": [
    "Checks for Normality"
   ]
  },
  {
   "cell_type": "code",
   "execution_count": 38,
   "metadata": {},
   "outputs": [
    {
     "data": {
      "image/png": "[encoded data removed]",
      "text/plain": [
       "<Figure size 432x288 with 1 Axes>"
      ]
     },
     "metadata": {
      "needs_background": "light"
     },
     "output_type": "display_data"
    },
    {
     "data": {
      "image/png": "[encoded data removed]",
      "text/plain": [
       "<Figure size 432x288 with 1 Axes>"
      ]
     },
     "metadata": {
      "needs_background": "light"
     },
     "output_type": "display_data"
    }
   ],
   "source": [
    "# Checking Normality with Histogram\n",
    "plt.hist(orig_data['Cscore'])\n",
    "plt.show()\n",
    "\n",
    "plt.hist(orig_data['Oscore'])\n",
    "plt.show()"
   ]
  },
  {
   "cell_type": "code",
   "execution_count": 40,
   "metadata": {},
   "outputs": [
    {
     "data": {
      "image/png": "[encoded data removed]",
      "text/plain": [
       "<Figure size 432x288 with 1 Axes>"
      ]
     },
     "metadata": {
      "needs_background": "light"
     },
     "output_type": "display_data"
    },
    {
     "data": {
      "image/png": "[encoded data removed]",
      "text/plain": [
       "<Figure size 432x288 with 1 Axes>"
      ]
     },
     "metadata": {
      "needs_background": "light"
     },
     "output_type": "display_data"
    }
   ],
   "source": [
    "# Q-Q Plot\n",
    "\n",
    "import statsmodels.api as sm\n",
    "import pylab as py \n",
    "\n",
    "sm.qqplot(orig_data['Escore'], line='s')\n",
    "py.show()\n",
    "\n",
    "sm.qqplot(orig_data['AScore'], line='s')\n",
    "py.show()"
   ]
  },
  {
   "cell_type": "code",
   "execution_count": 13,
   "metadata": {},
   "outputs": [
    {
     "name": "stdout",
     "output_type": "stream",
     "text": [
      "P-values:\n",
      "N: 2.09E-08\n",
      "E: 1.10E-07\n",
      "A: 3.85E-08\n",
      "O: 6.76E-11\n",
      "C: 2.19E-12\n"
     ]
    }
   ],
   "source": [
    "# Shapiro-Wilk test for normality\n",
    "import scipy\n",
    "from scipy import stats\n",
    "print(\"P-values:\")\n",
    "print(\"N: {:.2E}\".format(scipy.stats.shapiro(orig_data['Nscore']).pvalue))\n",
    "print(\"E: {:.2E}\".format(scipy.stats.shapiro(orig_data['Escore']).pvalue))\n",
    "print(\"A: {:.2E}\".format(scipy.stats.shapiro(orig_data['AScore']).pvalue))\n",
    "print(\"O: {:.2E}\".format(scipy.stats.shapiro(orig_data['Oscore']).pvalue))\n",
    "print(\"C: {:.2E}\".format(scipy.stats.shapiro(orig_data['Cscore']).pvalue))"
   ]
  },
  {
   "cell_type": "code",
   "execution_count": 27,
   "metadata": {},
   "outputs": [
    {
     "name": "stdout",
     "output_type": "stream",
     "text": [
      "\n",
      "Kurtosis:\n",
      "Nscore: -0.55\n",
      "Escore: 0.06\n",
      "Oscore: -0.28\n",
      "Ascore: 0.13\n",
      "Cscore: -0.17\n",
      "\n",
      "Skewness:\n",
      "Nscore: 0.12\n",
      "Escore: -0.27\n",
      "Oscore: -0.30\n",
      "Ascore: -0.27\n",
      "Cscore: -0.39\n"
     ]
    }
   ],
   "source": [
    "# Excess Kurtosis\n",
    "print(\"\\nKurtosis:\")\n",
    "print(\"Nscore: {:.2f}\".format(scipy.stats.kurtosis(orig_data['Nscore'])))\n",
    "print(\"Escore: {:.2f}\".format(scipy.stats.kurtosis(orig_data['Escore'])))\n",
    "print(\"Oscore: {:.2f}\".format(scipy.stats.kurtosis(orig_data['Oscore'])))\n",
    "print(\"Ascore: {:.2f}\".format(scipy.stats.kurtosis(orig_data['AScore'])))\n",
    "print(\"Cscore: {:.2f}\".format(scipy.stats.kurtosis(orig_data['Cscore'])))\n",
    "\n",
    "# Skewness\n",
    "print(\"\\nSkewness:\")\n",
    "print(\"Nscore: {:.2f}\".format(scipy.stats.skew(orig_data['Nscore'])))\n",
    "print(\"Escore: {:.2f}\".format(scipy.stats.skew(orig_data['Escore'])))\n",
    "print(\"Oscore: {:.2f}\".format(scipy.stats.skew(orig_data['Oscore'])))\n",
    "print(\"Ascore: {:.2f}\".format(scipy.stats.skew(orig_data['AScore'])))\n",
    "print(\"Cscore: {:.2f}\".format(scipy.stats.skew(orig_data['Cscore'])))"
   ]
  },
  {
   "cell_type": "markdown",
   "metadata": {},
   "source": [
    "T-tests"
   ]
  },
  {
   "cell_type": "code",
   "execution_count": 41,
   "metadata": {},
   "outputs": [
    {
     "name": "stdout",
     "output_type": "stream",
     "text": [
      "Means of Non-Users:\n",
      "N: 33.09\n",
      "E: 40.74\n",
      "O: 41.72\n",
      "A: 44.99\n",
      "C: 45.44\n",
      "\n",
      "Means of Users:\n",
      "N: 37.11\n",
      "E: 39.42\n",
      "O: 46.92\n",
      "A: 42.16\n",
      "C: 40.35\n"
     ]
    }
   ],
   "source": [
    "# Comparing sample means of drug users and non-users: Dataset 1\n",
    "\n",
    "print(\"Means of Non-Users:\")\n",
    "print(\"N: {:.2f}\".format(Nvr_Tried['Nscore'].mean()))\n",
    "print(\"E: {:.2f}\".format(Nvr_Tried['Escore'].mean()))\n",
    "print(\"O: {:.2f}\".format(Nvr_Tried['Oscore'].mean()))\n",
    "print(\"A: {:.2f}\".format(Nvr_Tried['Ascore'].mean()))\n",
    "print(\"C: {:.2f}\".format(Nvr_Tried['Cscore'].mean()))\n",
    "\n",
    "print(\"\\nMeans of Users:\")\n",
    "print(\"N: {:.2f}\".format(Tried_Samp['Nscore'].mean()))\n",
    "print(\"E: {:.2f}\".format(Tried_Samp['Escore'].mean()))\n",
    "print(\"O: {:.2f}\".format(Tried_Samp['Oscore'].mean()))\n",
    "print(\"A: {:.2f}\".format(Tried_Samp['Ascore'].mean()))\n",
    "print(\"C: {:.2f}\".format(Tried_Samp['Cscore'].mean()))"
   ]
  },
  {
   "cell_type": "code",
   "execution_count": 42,
   "metadata": {},
   "outputs": [
    {
     "name": "stdout",
     "output_type": "stream",
     "text": [
      "N: 2.270E-08\n",
      "E: 4.427E-02\n",
      "A: 5.752E-19\n",
      "O: 7.628E-07\n",
      "C: 3.169E-17\n"
     ]
    }
   ],
   "source": [
    "# Wilcoxon Signed Rank test (non-normal data) to determine differences in means: Dataset 1\n",
    "\n",
    "print(\"N: {:.3E}\".format(stats.wilcoxon(Nvr_Tried['Nscore'], Tried_Samp['Nscore']).pvalue))\n",
    "print(\"E: {:.3E}\".format(stats.wilcoxon(Nvr_Tried['Escore'], Tried_Samp['Escore']).pvalue))\n",
    "print(\"A: {:.3E}\".format(stats.wilcoxon(Nvr_Tried['Oscore'], Tried_Samp['Oscore']).pvalue))\n",
    "print(\"O: {:.3E}\".format(stats.wilcoxon(Nvr_Tried['Ascore'], Tried_Samp['Ascore']).pvalue))\n",
    "print(\"C: {:.3E}\".format(stats.wilcoxon(Nvr_Tried['Cscore'], Tried_Samp['Cscore']).pvalue))"
   ]
  },
  {
   "cell_type": "code",
   "execution_count": 43,
   "metadata": {},
   "outputs": [
    {
     "name": "stdout",
     "output_type": "stream",
     "text": [
      "Means of Non-Users:\n",
      "N: 33.80\n",
      "E: 40.25\n",
      "O: 42.64\n",
      "A: 44.39\n",
      "C: 44.23\n",
      "\n",
      "Means of Users:\n",
      "N: 37.54\n",
      "E: 38.94\n",
      "O: 47.52\n",
      "A: 42.05\n",
      "C: 39.69\n"
     ]
    }
   ],
   "source": [
    "# Comparing sample means of drug users and non-users: Dataset 2\n",
    "\n",
    "print(\"Means of Non-Users:\")\n",
    "print(\"N: {:.2f}\".format(Recent_N['Nscore'].mean()))\n",
    "print(\"E: {:.2f}\".format(Recent_N['Escore'].mean()))\n",
    "print(\"O: {:.2f}\".format(Recent_N['Oscore'].mean()))\n",
    "print(\"A: {:.2f}\".format(Recent_N['Ascore'].mean()))\n",
    "print(\"C: {:.2f}\".format(Recent_N['Cscore'].mean()))\n",
    "\n",
    "print(\"\\nMeans of Users:\")\n",
    "print(\"N: {:.2f}\".format(Recent_Y_Samp['Nscore'].mean()))\n",
    "print(\"E: {:.2f}\".format(Recent_Y_Samp['Escore'].mean()))\n",
    "print(\"O: {:.2f}\".format(Recent_Y_Samp['Oscore'].mean()))\n",
    "print(\"A: {:.2f}\".format(Recent_Y_Samp['Ascore'].mean()))\n",
    "print(\"C: {:.2f}\".format(Recent_Y_Samp['Cscore'].mean()))"
   ]
  },
  {
   "cell_type": "code",
   "execution_count": 44,
   "metadata": {},
   "outputs": [
    {
     "name": "stdout",
     "output_type": "stream",
     "text": [
      "N: 2.186E-14\n",
      "E: 4.211E-04\n",
      "A: 1.328E-42\n",
      "O: 5.423E-13\n",
      "C: 5.749E-35\n"
     ]
    }
   ],
   "source": [
    "# Wilcoxon Signed Rank test (non-normal data) to determine differences in means: Dataset 2\n",
    "\n",
    "print(\"N: {:.3E}\".format(stats.wilcoxon(Recent_N['Nscore'], Recent_Y_Samp['Nscore']).pvalue))\n",
    "print(\"E: {:.3E}\".format(stats.wilcoxon(Recent_N['Escore'], Recent_Y_Samp['Escore']).pvalue))\n",
    "print(\"A: {:.3E}\".format(stats.wilcoxon(Recent_N['Oscore'], Recent_Y_Samp['Oscore']).pvalue))\n",
    "print(\"O: {:.3E}\".format(stats.wilcoxon(Recent_N['Ascore'], Recent_Y_Samp['Ascore']).pvalue))\n",
    "print(\"C: {:.3E}\".format(stats.wilcoxon(Recent_N['Cscore'], Recent_Y_Samp['Cscore']).pvalue))"
   ]
  },
  {
   "cell_type": "code",
   "execution_count": 45,
   "metadata": {},
   "outputs": [
    {
     "name": "stdout",
     "output_type": "stream",
     "text": [
      "Means of Non-Users:\n",
      "N: 35.04\n",
      "E: 40.27\n",
      "O: 44.84\n",
      "A: 43.63\n",
      "C: 42.55\n",
      "\n",
      "Means of Users:\n",
      "N: 38.53\n",
      "E: 38.40\n",
      "O: 47.94\n",
      "A: 41.19\n",
      "C: 39.07\n"
     ]
    }
   ],
   "source": [
    "# Comparing sample means of drug users and non-users: Dataset 3\n",
    "\n",
    "print(\"Means of Non-Users:\")\n",
    "print(\"N: {:.2f}\".format(Heavy_N_Samp['Nscore'].mean()))\n",
    "print(\"E: {:.2f}\".format(Heavy_N_Samp['Escore'].mean()))\n",
    "print(\"O: {:.2f}\".format(Heavy_N_Samp['Oscore'].mean()))\n",
    "print(\"A: {:.2f}\".format(Heavy_N_Samp['Ascore'].mean()))\n",
    "print(\"C: {:.2f}\".format(Heavy_N_Samp['Cscore'].mean()))\n",
    "\n",
    "print(\"\\nMeans of Users:\")\n",
    "print(\"N: {:.2f}\".format(Heavy_Y['Nscore'].mean()))\n",
    "print(\"E: {:.2f}\".format(Heavy_Y['Escore'].mean()))\n",
    "print(\"O: {:.2f}\".format(Heavy_Y['Oscore'].mean()))\n",
    "print(\"A: {:.2f}\".format(Heavy_Y['Ascore'].mean()))\n",
    "print(\"C: {:.2f}\".format(Heavy_Y['Cscore'].mean()))"
   ]
  },
  {
   "cell_type": "code",
   "execution_count": 47,
   "metadata": {},
   "outputs": [
    {
     "name": "stdout",
     "output_type": "stream",
     "text": [
      "N: 5.479E-11\n",
      "E: 3.469E-06\n",
      "A: 1.777E-15\n",
      "O: 6.027E-10\n",
      "C: 4.328E-17\n"
     ]
    }
   ],
   "source": [
    "# Wilcoxon Signed Rank test (non-normal data) to determine differences in means: Dataset 3\n",
    "\n",
    "print(\"N: {:.3E}\".format(stats.wilcoxon(Heavy_N_Samp['Nscore'], Heavy_Y['Nscore']).pvalue))\n",
    "print(\"E: {:.3E}\".format(stats.wilcoxon(Heavy_N_Samp['Escore'], Heavy_Y['Escore']).pvalue))\n",
    "print(\"A: {:.3E}\".format(stats.wilcoxon(Heavy_N_Samp['Oscore'], Heavy_Y['Oscore']).pvalue))\n",
    "print(\"O: {:.3E}\".format(stats.wilcoxon(Heavy_N_Samp['Ascore'], Heavy_Y['Ascore']).pvalue))\n",
    "print(\"C: {:.3E}\".format(stats.wilcoxon(Heavy_N_Samp['Cscore'], Heavy_Y['Cscore']).pvalue))"
   ]
  },
  {
   "cell_type": "markdown",
   "metadata": {},
   "source": [
    "Popularity of Each Substance"
   ]
  },
  {
   "cell_type": "code",
   "execution_count": 48,
   "metadata": {},
   "outputs": [],
   "source": [
    "# Graphically Show the Number of People that have Tried Each Legal and Illegal Drug/Substance (Dataset 1)\n",
    "import pygal\n",
    "from pygal.style import DefaultStyle\n",
    "\n",
    "Graph_data = data.copy()\n",
    "Graph_data = Graph_data.iloc[:,13:32]\n",
    "Graph_data = Graph_data.drop(columns = ['Semer'])\n",
    "for col in Graph_data.columns:\n",
    "    for i in range(0, len(Graph_data)):\n",
    "        if Graph_data[col][i] == 'CL0':\n",
    "            Graph_data[col].iat[i] = 0\n",
    "        else:\n",
    "            Graph_data[col].iat[i] = 1\n",
    "Graph_data = Graph_data.astype(float)\n",
    "\n",
    "barvalues = []\n",
    "barheaders = []\n",
    "for col in Graph_data.columns:\n",
    "    tot_count = sum(Graph_data[col])\n",
    "    barvalues.append((tot_count/1885)*100)\n",
    "    barheaders.append(col)\n",
    "\n",
    "barchart = pygal.Bar(title = \"Percentage of People that have Tried Each Substance\", style = DefaultStyle, y_title = 'Percent %', width = 900, range = (0,100))\n",
    "for i in range(0, len(barvalues)):\n",
    "    barchart.add(str(barheaders[i]), [{'value': barvalues[i], 'xlabel': barheaders[i]}])\n",
    "barchart.render_to_file('drug_popularity.svg')"
   ]
  },
  {
   "cell_type": "markdown",
   "metadata": {},
   "source": [
    "Correlations"
   ]
  },
  {
   "cell_type": "code",
   "execution_count": 57,
   "metadata": {},
   "outputs": [
    {
     "name": "stdout",
     "output_type": "stream",
     "text": [
      "[('Ecstasy', 7), ('Mushrooms', 6), ('Amphet', 6), ('LSD', 4), ('Coke', 4), ('Cannabis', 4), ('Heroin', 2), ('Legalh', 2), ('Crack', 1), ('Nicotine', 1), ('Meth', 1), ('Ketamine', 1), ('Benzos', 1)]\n"
     ]
    }
   ],
   "source": [
    "# Correlations between different drugs (Dataset 1)\n",
    "from scipy.stats import pearsonr\n",
    "import collections\n",
    "\n",
    "correlations = Graph_data.copy()\n",
    "C = correlations.corr()\n",
    "\n",
    "sub1 = []\n",
    "sub2 = []\n",
    "corr_val = []\n",
    "pval = []\n",
    "\n",
    "for i in correlations.columns:\n",
    "    for j in correlations.columns:\n",
    "        PCC = pearsonr(correlations[i], correlations[j])\n",
    "        sub1.append(i)\n",
    "        sub2.append(j)\n",
    "        corr_val.append(PCC[0])\n",
    "        pval.append(PCC[1])\n",
    "corr_df = pd.DataFrame().assign(Substance_1 = sub1, Substance_2 = sub2, Correlation_Value = corr_val, P_Value = pval)\n",
    "corr_df['Pair'] = corr_df['Substance_1'] + ' - ' + corr_df['Substance_2']\n",
    "\n",
    "corr_df = corr_df.loc[corr_df['Substance_1'] != corr_df['Substance_2']]\n",
    "corr_df = corr_df.sort_values('Correlation_Value', ascending = False)\n",
    "corr_df = corr_df.iloc[::2]\n",
    "corr_df['Significance Level'] = ''\n",
    "for i in range(0, len(corr_df)):\n",
    "    if corr_df['P_Value'].iloc[i] < 0.0001:\n",
    "        corr_df['Significance Level'].iat[i] = '****'\n",
    "    elif corr_df['P_Value'].iloc[i] < 0.001 and corr_df['P_Value'].iloc[i] > 0.0001:\n",
    "        corr_df['Significance Level'].iat[i] = '***'\n",
    "    elif corr_df['P_Value'].iloc[i] < 0.01 and corr_df['P_Value'].iloc[i] > 0.001:\n",
    "        corr_df['Significance Level'].iat[i] = '**'\n",
    "    elif corr_df['P_Value'].iloc[i] < 0.05 and corr_df['P_Value'].iloc[i] > 0.01:\n",
    "        corr_df['Significance Level'].iat[i] = '*'\n",
    "\n",
    "Top_corr = corr_df.iloc[0:20, :]\n",
    "most_common = []\n",
    "for i in range(0, len(Top_corr)):\n",
    "    most_common.append(Top_corr['Substance_1'].iloc[i])\n",
    "    most_common.append(Top_corr['Substance_2'].iloc[i])\n",
    "\n",
    "counter = collections.Counter(most_common)\n",
    "print(counter.most_common())"
   ]
  },
  {
   "cell_type": "markdown",
   "metadata": {},
   "source": [
    "Dataset 1 Models"
   ]
  },
  {
   "cell_type": "code",
   "execution_count": 58,
   "metadata": {},
   "outputs": [],
   "source": [
    "# Modelling - Dataset 1\n",
    "inputs = df1.iloc[:, :10]\n",
    "output = df1.iloc[:, 29]\n",
    "inputs = inputs.astype(float)\n",
    "output = output.astype(float)\n",
    "\n",
    "from sklearn.model_selection import train_test_split\n",
    "x_train, x_test, y_train, y_test = train_test_split(inputs, output, test_size=0.25, random_state=0)\n",
    "\n",
    "from sklearn.metrics import confusion_matrix, accuracy_score, recall_score\n",
    "from sklearn.model_selection import cross_val_score\n",
    "from sklearn.metrics import make_scorer\n",
    "scorer = make_scorer(recall_score, pos_label = 0)"
   ]
  },
  {
   "cell_type": "code",
   "execution_count": 59,
   "metadata": {},
   "outputs": [
    {
     "name": "stdout",
     "output_type": "stream",
     "text": [
      "[[ 51  29]\n",
      " [ 48 344]]\n",
      "Accuracy: 83.69%\n",
      "Recall: 87.76%\n",
      "Specificity: 63.75%\n"
     ]
    }
   ],
   "source": [
    "# Naive-Bayes\n",
    "from sklearn.naive_bayes import GaussianNB\n",
    "classifierNB = GaussianNB()\n",
    "classifierNB.fit(x_train, y_train)\n",
    "\n",
    "y_pred_NB = classifierNB.predict(x_test)\n",
    "conf_mat_NB = confusion_matrix(y_test, y_pred_NB)\n",
    "print(conf_mat_NB)\n",
    "print(\"Accuracy: {:.2f}%\".format(accuracy_score(y_test, y_pred_NB)*100))\n",
    "\n",
    "# Sensitivty & Specificity\n",
    "Tn_NB, Fp_NB, Fn_NB, Tp_NB = confusion_matrix(y_test, y_pred_NB).ravel()\n",
    "SensitivityNB = recall_score(y_test, y_pred_NB)*100\n",
    "SpecificityNB = (Tn_NB/(Tn_NB + Fp_NB))*100 \n",
    "print(\"Recall: {:.2f}%\".format(SensitivityNB))\n",
    "print(\"Specificity: {:.2f}%\".format(SpecificityNB))"
   ]
  },
  {
   "cell_type": "code",
   "execution_count": 92,
   "metadata": {},
   "outputs": [
    {
     "name": "stdout",
     "output_type": "stream",
     "text": [
      "Accuracy: 79.55%\n",
      "Standard Deviation: 3.15%\n",
      "Recall: 68.61%\n",
      "Specificity: 52.73%\n"
     ]
    }
   ],
   "source": [
    "# Cross-fold validation NB\n",
    "cv_acc_NB = cross_val_score(estimator = classifierNB, X = x_train, y = y_train, cv = 10)\n",
    "cv_prec_NB = cross_val_score(classifierNB, x_train, y_train, cv=10, scoring = 'precision')\n",
    "cv_recalls_NB = cross_val_score(classifierNB, x_train, y_train, cv=10, scoring = 'recall_macro')\n",
    "cv_spec_NB = cross_val_score(classifierNB, x_train, y_train, cv=10, scoring = scorer)\n",
    "\n",
    "print(\"Accuracy: {:.2f}%\".format(cv_acc_NB.mean()*100))\n",
    "print(\"Standard Deviation: {:.2f}%\".format(cv_acc_NB.std()*100))\n",
    "print(\"Recall: {:.2f}%\".format(cv_recalls_NB.mean()*100))\n",
    "print(\"Specificity: {:.2f}%\".format(cv_spec_NB.mean()*100))"
   ]
  },
  {
   "cell_type": "code",
   "execution_count": 95,
   "metadata": {},
   "outputs": [
    {
     "name": "stdout",
     "output_type": "stream",
     "text": [
      "[[  3  77]\n",
      " [  5 387]]\n",
      "Accuracy: 82.63%\n",
      "Recall: 98.72%\n",
      "Specificity: 3.75%\n"
     ]
    }
   ],
   "source": [
    "# SVM\n",
    "from sklearn.svm import SVC\n",
    "classifierSVM = SVC(kernel = 'rbf', random_state=0)\n",
    "classifierSVM.fit(x_train, y_train)\n",
    "\n",
    "y_predSVM = classifierSVM.predict(x_test)\n",
    "conf_matSVM = confusion_matrix(y_test, y_predSVM)\n",
    "print(conf_matSVM)\n",
    "print((\"Accuracy: {:.2f}%\".format(accuracy_score(y_test, y_predSVM)*100)))\n",
    "\n",
    "# Sensitivty & Specificity\n",
    "Tn_SVM, Fp_SVM, Fn_SVM, Tp_SVM = confusion_matrix(y_test, y_predSVM).ravel()\n",
    "SensitivitySVM = recall_score(y_test, y_predSVM)*100\n",
    "SpecificitySVM = (Tn_SVM/(Tn_SVM + Fp_SVM))*100 \n",
    "print(\"Recall: {:.2f}%\".format(SensitivitySVM))\n",
    "print(\"Specificity: {:.2f}%\".format(SpecificitySVM))"
   ]
  },
  {
   "cell_type": "code",
   "execution_count": 96,
   "metadata": {},
   "outputs": [
    {
     "name": "stdout",
     "output_type": "stream",
     "text": [
      "Accuracy: 84.57%\n",
      "Standard Deviation: 0.51%\n",
      "Recall: 51.94%\n",
      "Specificity: 4.55%\n"
     ]
    }
   ],
   "source": [
    "# Cross-fold validation SVM\n",
    "cv_acc_SVM = cross_val_score(estimator = classifierSVM, X = x_train, y = y_train, cv = 10)\n",
    "cv_recalls_SVM = cross_val_score(classifierSVM, x_train, y_train, cv=10, scoring = 'recall_macro')\n",
    "cv_spec_SVM = cross_val_score(classifierSVM, x_train, y_train, cv=10, scoring = scorer)\n",
    "\n",
    "print(\"Accuracy: {:.2f}%\".format(cv_acc_SVM.mean()*100))\n",
    "print(\"Standard Deviation: {:.2f}%\".format(cv_acc_SVM.std()*100))\n",
    "print(\"Recall: {:.2f}%\".format(cv_recalls_SVM.mean()*100))\n",
    "print(\"Specificity: {:.2f}%\".format(cv_spec_SVM.mean()*100))"
   ]
  },
  {
   "cell_type": "code",
   "execution_count": 63,
   "metadata": {},
   "outputs": [
    {
     "name": "stdout",
     "output_type": "stream",
     "text": [
      "[[ 30  50]\n",
      " [ 49 343]]\n",
      "Accuracy: 79.03%\n",
      "Recall: 87.50%\n",
      "Specificity: 37.50%\n"
     ]
    }
   ],
   "source": [
    "# Decision Tree\n",
    "from sklearn.tree import DecisionTreeClassifier\n",
    "classifierDTC = DecisionTreeClassifier(criterion='entropy', random_state=0)\n",
    "classifierDTC.fit(x_train, y_train)\n",
    "\n",
    "y_predDTC = classifierDTC.predict(x_test)\n",
    "conf_matDTC = confusion_matrix(y_test, y_predDTC)\n",
    "print(conf_matDTC)\n",
    "print((\"Accuracy: {:.2f}%\".format(accuracy_score(y_test, y_predDTC)*100)))\n",
    "\n",
    "# Sensitivty & Specificity\n",
    "Tn_DTC, Fp_DTC, Fn_DTC, Tp_DTC = confusion_matrix(y_test, y_predDTC).ravel()\n",
    "SensitivityDTC = recall_score(y_test, y_predDTC)*100\n",
    "SpecificityDTC = (Tn_DTC/(Tn_DTC + Fp_DTC))*100 \n",
    "print(\"Recall: {:.2f}%\".format(SensitivityDTC))\n",
    "print(\"Specificity: {:.2f}%\".format(SpecificityDTC))"
   ]
  },
  {
   "cell_type": "code",
   "execution_count": 64,
   "metadata": {},
   "outputs": [
    {
     "name": "stdout",
     "output_type": "stream",
     "text": [
      "Accuracy: 75.72%\n",
      "Standard Deviation: 3.58%\n",
      "Recall: 57.26%\n",
      "Specificity: 30.45%\n"
     ]
    }
   ],
   "source": [
    "# Cross-fold validation Decision Tree\n",
    "cv_acc_DTC = cross_val_score(estimator = classifierDTC, X = x_train, y = y_train, cv = 10)\n",
    "cv_recalls_DTC = cross_val_score(classifierDTC, x_train, y_train, cv=10, scoring = 'recall_macro')\n",
    "cv_spec_DTC = cross_val_score(classifierDTC, x_train, y_train, cv=10, scoring = scorer)\n",
    "\n",
    "print(\"Accuracy: {:.2f}%\".format(cv_acc_DTC.mean()*100))\n",
    "print(\"Standard Deviation: {:.2f}%\".format(cv_acc_DTC.std()*100))\n",
    "print(\"Recall: {:.2f}%\".format(cv_recalls_DTC.mean()*100))\n",
    "print(\"Specificity: {:.2f}%\".format(cv_spec_DTC.mean()*100))"
   ]
  },
  {
   "cell_type": "code",
   "execution_count": 65,
   "metadata": {},
   "outputs": [
    {
     "name": "stdout",
     "output_type": "stream",
     "text": [
      "[[ 24  56]\n",
      " [ 28 364]]\n",
      "Accuracy: 82.20%\n",
      "Recall: 92.86%\n",
      "Specificity: 30.00%\n"
     ]
    }
   ],
   "source": [
    "# Random Forest\n",
    "from sklearn.ensemble import RandomForestClassifier\n",
    "classifierRFC = RandomForestClassifier(n_estimators=10, criterion='entropy', random_state=0)\n",
    "classifierRFC.fit(x_train, y_train)\n",
    "\n",
    "y_predRFC = classifierRFC.predict(x_test)\n",
    "conf_matRFC = confusion_matrix(y_test, y_predRFC)\n",
    "print(conf_matRFC)\n",
    "print((\"Accuracy: {:.2f}%\".format(accuracy_score(y_test, y_predRFC)*100)))\n",
    "\n",
    "# Sensitivty & Specificity\n",
    "Tn_RFC, Fp_RFC, Fn_RFC, Tp_RFC = confusion_matrix(y_test, y_predRFC).ravel()\n",
    "SensitivityRFC = recall_score(y_test, y_predRFC)*100\n",
    "SpecificityRFC = (Tn_RFC/(Tn_RFC + Fp_RFC))*100 \n",
    "print(\"Recall: {:.2f}%\".format(SensitivityRFC))\n",
    "print(\"Specificity: {:.2f}%\".format(SpecificityRFC))"
   ]
  },
  {
   "cell_type": "code",
   "execution_count": 66,
   "metadata": {},
   "outputs": [
    {
     "name": "stdout",
     "output_type": "stream",
     "text": [
      "Accuracy: 83.23%\n",
      "Standard Deviation: 3.07%\n",
      "Recall: 59.67%\n",
      "Specificity: 25.45%\n"
     ]
    }
   ],
   "source": [
    "# Cross-fold validation Random Forest\n",
    "cv_acc_RFC = cross_val_score(estimator = classifierRFC, X = x_train, y = y_train, cv = 10)\n",
    "cv_recalls_RFC = cross_val_score(classifierRFC, x_train, y_train, cv=10, scoring = 'recall_macro')\n",
    "cv_spec_RFC = cross_val_score(classifierRFC, x_train, y_train, cv=10, scoring = scorer)\n",
    "\n",
    "print(\"Accuracy: {:.2f}%\".format(cv_acc_RFC.mean()*100))\n",
    "print(\"Standard Deviation: {:.2f}%\".format(cv_acc_RFC.std()*100))\n",
    "print(\"Recall: {:.2f}%\".format(cv_recalls_RFC.mean()*100))\n",
    "print(\"Specificity: {:.2f}%\".format(cv_spec_RFC.mean()*100))"
   ]
  },
  {
   "cell_type": "code",
   "execution_count": 67,
   "metadata": {},
   "outputs": [
    {
     "name": "stdout",
     "output_type": "stream",
     "text": [
      "[[ 26  54]\n",
      " [ 30 362]]\n",
      "Accuracy: 82.20%\n",
      "Recall: 92.35%\n",
      "Specificity: 32.50%\n"
     ]
    }
   ],
   "source": [
    "# XGBboost\n",
    "import xgboost as xgb\n",
    "classifierXGB = xgb.XGBClassifier()\n",
    "classifierXGB.fit(x_train, y_train)\n",
    "\n",
    "y_predXGB = classifierXGB.predict(x_test)\n",
    "conf_matXGB = confusion_matrix(y_test, y_predXGB)\n",
    "print(conf_matXGB)\n",
    "print((\"Accuracy: {:.2f}%\".format(accuracy_score(y_test, y_predXGB)*100)))\n",
    "\n",
    "# Sensitivty & Specificity\n",
    "Tn_XGB, Fp_XGB, Fn_XGB, Tp_XGB = confusion_matrix(y_test, y_predXGB).ravel()\n",
    "SensitivityXGB = recall_score(y_test, y_predXGB)*100\n",
    "SpecificityXGB = (Tn_XGB/(Tn_XGB + Fp_XGB))*100 \n",
    "print(\"Recall: {:.2f}%\".format(SensitivityXGB))\n",
    "print(\"Specificity: {:.2f}%\".format(SpecificityXGB))"
   ]
  },
  {
   "cell_type": "code",
   "execution_count": 68,
   "metadata": {},
   "outputs": [
    {
     "name": "stdout",
     "output_type": "stream",
     "text": [
      "Accuracy: 82.24%\n",
      "Standard Deviation: 2.25%\n",
      "Recall: 59.08%\n",
      "Specificity: 25.45%\n"
     ]
    }
   ],
   "source": [
    "# Cross-fold validation XGBoost\n",
    "cv_acc_XGB = cross_val_score(estimator = classifierXGB, X = x_train, y = y_train, cv = 10)\n",
    "cv_recalls_XGB = cross_val_score(classifierXGB, x_train, y_train, cv=10, scoring = 'recall_macro')\n",
    "cv_spec_XGB = cross_val_score(classifierXGB, x_train, y_train, cv=10, scoring = scorer)\n",
    "\n",
    "print(\"Accuracy: {:.2f}%\".format(cv_acc_XGB.mean()*100))\n",
    "print(\"Standard Deviation: {:.2f}%\".format(cv_acc_XGB.std()*100))\n",
    "print(\"Recall: {:.2f}%\".format(cv_recalls_XGB.mean()*100))\n",
    "print(\"Specificity: {:.2f}%\".format(cv_spec_XGB.mean()*100))"
   ]
  },
  {
   "cell_type": "markdown",
   "metadata": {},
   "source": [
    "Dataset 2 Models"
   ]
  },
  {
   "cell_type": "code",
   "execution_count": 69,
   "metadata": {},
   "outputs": [],
   "source": [
    "# Dataset 2\n",
    "inputs2 = df2.iloc[:, :10]\n",
    "output2 = df2.iloc[:, 29]\n",
    "inputs2 = inputs2.astype(float)\n",
    "output2 = output2.astype(float)\n",
    "\n",
    "x_train2, x_test2, y_train2, y_test2 = train_test_split(inputs2, output2, test_size=0.25, random_state=0)"
   ]
  },
  {
   "cell_type": "code",
   "execution_count": 70,
   "metadata": {},
   "outputs": [
    {
     "name": "stdout",
     "output_type": "stream",
     "text": [
      "[[141  40]\n",
      " [ 45 246]]\n",
      "Accuracy: 81.99%\n",
      "Recall: 84.54%\n",
      "Specificity: 77.90%\n"
     ]
    }
   ],
   "source": [
    "# Naive-Bayes\n",
    "from sklearn.naive_bayes import GaussianNB\n",
    "classifierNB2 = GaussianNB()\n",
    "classifierNB2.fit(x_train2, y_train2)\n",
    "\n",
    "y_pred_NB2 = classifierNB2.predict(x_test2)\n",
    "conf_mat_NB2 = confusion_matrix(y_test2, y_pred_NB2)\n",
    "print(conf_mat_NB2)\n",
    "print(\"Accuracy: {:.2f}%\".format(accuracy_score(y_test2, y_pred_NB2)*100))\n",
    "\n",
    "# Sensitivty & Specificity\n",
    "Tn_NB2, Fp_NB2, Fn_NB2, Tp_NB2 = confusion_matrix(y_test2, y_pred_NB2).ravel()\n",
    "SensitivityNB2 = recall_score(y_test2, y_pred_NB2)*100\n",
    "SpecificityNB2 = (Tn_NB2/(Tn_NB2 + Fp_NB2))*100 \n",
    "print(\"Recall: {:.2f}%\".format(SensitivityNB2))\n",
    "print(\"Specificity: {:.2f}%\".format(SpecificityNB2))"
   ]
  },
  {
   "cell_type": "code",
   "execution_count": 71,
   "metadata": {},
   "outputs": [
    {
     "name": "stdout",
     "output_type": "stream",
     "text": [
      "Accuracy: 78.56%\n",
      "Standard Deviation: 2.69%\n",
      "Recall: 77.82%\n",
      "Specificity: 74.91%\n"
     ]
    }
   ],
   "source": [
    "# Cross-fold validation NB\n",
    "cv_acc_NB2 = cross_val_score(estimator = classifierNB2, X = x_train2, y = y_train2, cv = 10)\n",
    "cv_prec_NB2 = cross_val_score(classifierNB2, x_train2, y_train2, cv=10, scoring = 'precision')\n",
    "cv_recalls_NB2 = cross_val_score(classifierNB2, x_train2, y_train2, cv=10, scoring = 'recall_macro')\n",
    "cv_spec_NB2 = cross_val_score(classifierNB2, x_train2, y_train2, cv=10, scoring = scorer)\n",
    "\n",
    "print(\"Accuracy: {:.2f}%\".format(cv_acc_NB2.mean()*100))\n",
    "print(\"Standard Deviation: {:.2f}%\".format(cv_acc_NB2.std()*100))\n",
    "print(\"Recall: {:.2f}%\".format(cv_recalls_NB2.mean()*100))\n",
    "print(\"Specificity: {:.2f}%\".format(cv_spec_NB2.mean()*100))"
   ]
  },
  {
   "cell_type": "code",
   "execution_count": 99,
   "metadata": {},
   "outputs": [
    {
     "name": "stdout",
     "output_type": "stream",
     "text": [
      "[[137  44]\n",
      " [ 41 250]]\n",
      "Accuracy: 81.99%\n",
      "Recall: 85.91%\n",
      "Specificity: 75.69%\n"
     ]
    }
   ],
   "source": [
    "# SVM\n",
    "from sklearn.svm import SVC\n",
    "classifierSVM2 = SVC(kernel = 'rbf', random_state=0, C=1000, gamma=0.001)\n",
    "classifierSVM2.fit(x_train2, y_train2)\n",
    "\n",
    "y_predSVM2 = classifierSVM2.predict(x_test2)\n",
    "conf_matSVM2 = confusion_matrix(y_test2, y_predSVM2)\n",
    "print(conf_matSVM2)\n",
    "print((\"Accuracy: {:.2f}%\".format(accuracy_score(y_test2, y_predSVM2)*100)))\n",
    "\n",
    "# Sensitivty & Specificity\n",
    "Tn_SVM2, Fp_SVM2, Fn_SVM2, Tp_SVM2 = confusion_matrix(y_test2, y_predSVM2).ravel()\n",
    "SensitivitySVM2 = recall_score(y_test2, y_predSVM2)*100\n",
    "SpecificitySVM2 = (Tn_SVM2/(Tn_SVM2 + Fp_SVM2))*100 \n",
    "print(\"Recall: {:.2f}%\".format(SensitivitySVM2))\n",
    "print(\"Specificity: {:.2f}%\".format(SpecificitySVM2))"
   ]
  },
  {
   "cell_type": "code",
   "execution_count": 100,
   "metadata": {},
   "outputs": [
    {
     "name": "stdout",
     "output_type": "stream",
     "text": [
      "Accuracy: 80.96%\n",
      "Standard Deviation: 3.10%\n",
      "Recall: 79.94%\n",
      "Specificity: 75.85%\n"
     ]
    }
   ],
   "source": [
    "# Cross-fold validation SVM\n",
    "cv_acc_SVM2 = cross_val_score(estimator = classifierSVM2, X = x_train2, y = y_train2, cv = 10)\n",
    "cv_recalls_SVM2 = cross_val_score(classifierSVM2, x_train2, y_train2, cv=10, scoring = 'recall_macro')\n",
    "cv_spec_SVM2 = cross_val_score(classifierSVM2, x_train2, y_train2, cv=10, scoring = scorer)\n",
    "\n",
    "print(\"Accuracy: {:.2f}%\".format(cv_acc_SVM2.mean()*100))\n",
    "print(\"Standard Deviation: {:.2f}%\".format(cv_acc_SVM2.std()*100))\n",
    "print(\"Recall: {:.2f}%\".format(cv_recalls_SVM2.mean()*100))\n",
    "print(\"Specificity: {:.2f}%\".format(cv_spec_SVM2.mean()*100))"
   ]
  },
  {
   "cell_type": "code",
   "execution_count": 74,
   "metadata": {},
   "outputs": [
    {
     "name": "stdout",
     "output_type": "stream",
     "text": [
      "Best Accuracy: 75.85%\n",
      "Best Parameters: {'C': 1000, 'gamma': 0.001, 'kernel': 'rbf'}\n"
     ]
    }
   ],
   "source": [
    "from sklearn.model_selection import GridSearchCV\n",
    "parameters2 = [{'C':[0.1, 1, 10, 100], 'kernel':['linear']},\n",
    "               {'C':[0.1, 1, 10, 100, 1000, 10000], 'kernel':['rbf'], 'gamma':[0.0001, 0.001, 0.01, 0.1]},\n",
    "               {'C':[0.1, 1, 10, 100], 'kernel':['poly'], 'degree':[2, 3, 4]},\n",
    "               {'C':[0.1, 1, 10, 100], 'kernel':['sigmoid'], 'gamma':[0.001, 0.01, 0.1]}]\n",
    "gridsearch2 = GridSearchCV(estimator=classifierSVM2, param_grid=parameters2, scoring= scorer, cv=10, n_jobs=-1)\n",
    "gridsearch2.fit(x_train2, y_train2)\n",
    "best_Acc2 = gridsearch2.best_score_\n",
    "best_parameters2 = gridsearch2.best_params_\n",
    "print(\"Best Accuracy: {:.2f}%\".format(best_Acc2*100))\n",
    "print(\"Best Parameters:\", best_parameters2)"
   ]
  },
  {
   "cell_type": "code",
   "execution_count": 75,
   "metadata": {},
   "outputs": [
    {
     "name": "stdout",
     "output_type": "stream",
     "text": [
      "[[103  78]\n",
      " [ 62 229]]\n",
      "Accuracy: 70.34%\n",
      "Recall: 78.69%\n",
      "Specificity: 56.91%\n"
     ]
    }
   ],
   "source": [
    "# Decision Tree\n",
    "from sklearn.tree import DecisionTreeClassifier\n",
    "classifierDTC2 = DecisionTreeClassifier(criterion='entropy', random_state=0)\n",
    "classifierDTC2.fit(x_train2, y_train2)\n",
    "\n",
    "y_predDTC2 = classifierDTC2.predict(x_test2)\n",
    "conf_matDTC2 = confusion_matrix(y_test2, y_predDTC2)\n",
    "print(conf_matDTC2)\n",
    "print((\"Accuracy: {:.2f}%\".format(accuracy_score(y_test2, y_predDTC2)*100)))\n",
    "\n",
    "# Sensitivty & Specificity\n",
    "Tn_DTC2, Fp_DTC2, Fn_DTC2, Tp_DTC2 = confusion_matrix(y_test2, y_predDTC2).ravel()\n",
    "SensitivityDTC2 = recall_score(y_test2, y_predDTC2)*100\n",
    "SpecificityDTC2 = (Tn_DTC2/(Tn_DTC2 + Fp_DTC2))*100 \n",
    "print(\"Recall: {:.2f}%\".format(SensitivityDTC2))\n",
    "print(\"Specificity: {:.2f}%\".format(SpecificityDTC2))"
   ]
  },
  {
   "cell_type": "code",
   "execution_count": 76,
   "metadata": {},
   "outputs": [
    {
     "name": "stdout",
     "output_type": "stream",
     "text": [
      "Accuracy: 72.04%\n",
      "Standard Deviation: 4.58%\n",
      "Recall: 70.16%\n",
      "Specificity: 62.64%\n"
     ]
    }
   ],
   "source": [
    "# Cross-fold validation Decision Tree\n",
    "cv_acc_DTC2 = cross_val_score(estimator = classifierDTC2, X = x_train2, y = y_train2, cv = 10)\n",
    "cv_recalls_DTC2 = cross_val_score(classifierDTC2, x_train2, y_train2, cv=10, scoring = 'recall_macro')\n",
    "cv_spec_DTC2 = cross_val_score(classifierDTC2, x_train2, y_train2, cv=10, scoring = scorer)\n",
    "\n",
    "print(\"Accuracy: {:.2f}%\".format(cv_acc_DTC2.mean()*100))\n",
    "print(\"Standard Deviation: {:.2f}%\".format(cv_acc_DTC2.std()*100))\n",
    "print(\"Recall: {:.2f}%\".format(cv_recalls_DTC2.mean()*100))\n",
    "print(\"Specificity: {:.2f}%\".format(cv_spec_DTC2.mean()*100))"
   ]
  },
  {
   "cell_type": "code",
   "execution_count": 77,
   "metadata": {},
   "outputs": [
    {
     "name": "stdout",
     "output_type": "stream",
     "text": [
      "           Importance\n",
      "SS           0.175435\n",
      "Oscore       0.135807\n",
      "Nscore       0.129530\n",
      "Cscore       0.107388\n",
      "Escore       0.103259\n",
      "Education    0.102178\n",
      "Age          0.102141\n",
      "AScore       0.068667\n",
      "Impulsive    0.050702\n",
      "Gender       0.024892\n"
     ]
    }
   ],
   "source": [
    "feature_importancesDTC = pd.DataFrame(classifierDTC2.feature_importances_, index = x_train2.columns, columns=['Importance']).sort_values('Importance', ascending=False) \n",
    "print(feature_importancesDTC)"
   ]
  },
  {
   "cell_type": "code",
   "execution_count": 78,
   "metadata": {},
   "outputs": [
    {
     "name": "stdout",
     "output_type": "stream",
     "text": [
      "[[143  38]\n",
      " [ 58 233]]\n",
      "Accuracy: 79.66%\n",
      "Recall: 80.07%\n",
      "Specificity: 79.01%\n"
     ]
    }
   ],
   "source": [
    "# Random Forest\n",
    "from sklearn.ensemble import RandomForestClassifier\n",
    "classifierRFC2 = RandomForestClassifier(n_estimators=10, criterion='entropy', random_state=0)\n",
    "classifierRFC2.fit(x_train2, y_train2)\n",
    "\n",
    "y_predRFC2 = classifierRFC2.predict(x_test2)\n",
    "conf_matRFC2 = confusion_matrix(y_test2, y_predRFC2)\n",
    "print(conf_matRFC2)\n",
    "print((\"Accuracy: {:.2f}%\".format(accuracy_score(y_test2, y_predRFC2)*100)))\n",
    "\n",
    "# Sensitivty & Specificity\n",
    "Tn_RFC2, Fp_RFC2, Fn_RFC2, Tp_RFC2 = confusion_matrix(y_test2, y_predRFC2).ravel()\n",
    "SensitivityRFC2 = recall_score(y_test2, y_predRFC2)*100\n",
    "SpecificityRFC2 = (Tn_RFC2/(Tn_RFC2 + Fp_RFC2))*100 \n",
    "print(\"Recall: {:.2f}%\".format(SensitivityRFC2))\n",
    "print(\"Specificity: {:.2f}%\".format(SpecificityRFC2))"
   ]
  },
  {
   "cell_type": "code",
   "execution_count": 79,
   "metadata": {},
   "outputs": [
    {
     "name": "stdout",
     "output_type": "stream",
     "text": [
      "Accuracy: 77.56%\n",
      "Standard Deviation: 4.28%\n",
      "Recall: 76.92%\n",
      "Specificity: 74.34%\n"
     ]
    }
   ],
   "source": [
    "# Cross-fold validation Random Forest\n",
    "cv_acc_RFC2 = cross_val_score(estimator = classifierRFC2, X = x_train2, y = y_train2, cv = 10)\n",
    "cv_recalls_RFC2 = cross_val_score(classifierRFC2, x_train2, y_train2, cv=10, scoring = 'recall_macro')\n",
    "cv_spec_RFC2 = cross_val_score(classifierRFC2, x_train2, y_train2, cv=10, scoring = scorer)\n",
    "\n",
    "print(\"Accuracy: {:.2f}%\".format(cv_acc_RFC2.mean()*100))\n",
    "print(\"Standard Deviation: {:.2f}%\".format(cv_acc_RFC2.std()*100))\n",
    "print(\"Recall: {:.2f}%\".format(cv_recalls_RFC2.mean()*100))\n",
    "print(\"Specificity: {:.2f}%\".format(cv_spec_RFC2.mean()*100))"
   ]
  },
  {
   "cell_type": "code",
   "execution_count": 80,
   "metadata": {},
   "outputs": [
    {
     "name": "stdout",
     "output_type": "stream",
     "text": [
      "           Importance\n",
      "SS           0.174336\n",
      "Oscore       0.148482\n",
      "Cscore       0.111611\n",
      "Age          0.108487\n",
      "Nscore       0.102254\n",
      "Escore       0.101133\n",
      "AScore       0.091322\n",
      "Education    0.068495\n",
      "Impulsive    0.058337\n",
      "Gender       0.035543\n"
     ]
    }
   ],
   "source": [
    "feature_importancesRFC = pd.DataFrame(classifierRFC2.feature_importances_, index = x_train2.columns, columns=['Importance']).sort_values('Importance', ascending=False) \n",
    "print(feature_importancesRFC)"
   ]
  },
  {
   "cell_type": "code",
   "execution_count": 81,
   "metadata": {},
   "outputs": [
    {
     "name": "stdout",
     "output_type": "stream",
     "text": [
      "[[138  43]\n",
      " [ 45 246]]\n",
      "Accuracy: 81.36%\n",
      "Recall: 84.54%\n",
      "Specificity: 76.24%\n"
     ]
    }
   ],
   "source": [
    "# XGBboost\n",
    "import xgboost as xgb\n",
    "classifierXGB2 = xgb.XGBClassifier()\n",
    "classifierXGB2.fit(x_train2, y_train2)\n",
    "\n",
    "y_predXGB2 = classifierXGB2.predict(x_test2)\n",
    "conf_matXGB2 = confusion_matrix(y_test2, y_predXGB2)\n",
    "print(conf_matXGB2)\n",
    "print((\"Accuracy: {:.2f}%\".format(accuracy_score(y_test2, y_predXGB2)*100)))\n",
    "\n",
    "# Sensitivty & Specificity\n",
    "Tn_XGB2, Fp_XGB2, Fn_XGB2, Tp_XGB2 = confusion_matrix(y_test2, y_predXGB2).ravel()\n",
    "SensitivityXGB2 = recall_score(y_test2, y_predXGB2)*100\n",
    "SpecificityXGB2 = (Tn_XGB2/(Tn_XGB2 + Fp_XGB2))*100 \n",
    "print(\"Recall: {:.2f}%\".format(SensitivityXGB2))\n",
    "print(\"Specificity: {:.2f}%\".format(SpecificityXGB2))"
   ]
  },
  {
   "cell_type": "code",
   "execution_count": 82,
   "metadata": {},
   "outputs": [
    {
     "name": "stdout",
     "output_type": "stream",
     "text": [
      "Accuracy: 78.27%\n",
      "Standard Deviation: 3.61%\n",
      "Recall: 76.92%\n",
      "Specificity: 71.51%\n"
     ]
    }
   ],
   "source": [
    "# Cross-fold validation XGBoost\n",
    "cv_acc_XGB2 = cross_val_score(estimator = classifierXGB2, X = x_train2, y = y_train2, cv = 10)\n",
    "cv_recalls_XGB2 = cross_val_score(classifierXGB2, x_train2, y_train2, cv=10, scoring = 'recall_macro')\n",
    "cv_spec_XGB2 = cross_val_score(classifierXGB2, x_train2, y_train2, cv=10, scoring = scorer)\n",
    "\n",
    "print(\"Accuracy: {:.2f}%\".format(cv_acc_XGB2.mean()*100))\n",
    "print(\"Standard Deviation: {:.2f}%\".format(cv_acc_XGB2.std()*100))\n",
    "print(\"Recall: {:.2f}%\".format(cv_recalls_XGB2.mean()*100))\n",
    "print(\"Specificity: {:.2f}%\".format(cv_spec_XGB2.mean()*100))"
   ]
  },
  {
   "cell_type": "code",
   "execution_count": 83,
   "metadata": {},
   "outputs": [
    {
     "name": "stdout",
     "output_type": "stream",
     "text": [
      "           Importance\n",
      "Age          0.210477\n",
      "SS           0.184196\n",
      "Gender       0.101149\n",
      "Education    0.091023\n",
      "Oscore       0.090485\n",
      "Cscore       0.068642\n",
      "Nscore       0.068575\n",
      "Escore       0.065901\n",
      "Impulsive    0.060518\n",
      "AScore       0.059034\n"
     ]
    }
   ],
   "source": [
    "feature_importancesXGB = pd.DataFrame(classifierXGB2.feature_importances_, index = x_train2.columns, columns=['Importance']).sort_values('Importance', ascending=False) \n",
    "print(feature_importancesXGB)"
   ]
  },
  {
   "cell_type": "markdown",
   "metadata": {},
   "source": [
    "Dataset 3 Models"
   ]
  },
  {
   "cell_type": "code",
   "execution_count": 84,
   "metadata": {},
   "outputs": [],
   "source": [
    "# Dataset 3\n",
    "inputs3 = df3.iloc[:, :10]\n",
    "output3 = df3.iloc[:, 29]\n",
    "inputs3 = inputs3.astype(float)\n",
    "output3 = output3.astype(float)\n",
    "\n",
    "x_train3, x_test3, y_train3, y_test3 = train_test_split(inputs3, output3, test_size=0.25, random_state=0)"
   ]
  },
  {
   "cell_type": "code",
   "execution_count": 86,
   "metadata": {},
   "outputs": [
    {
     "name": "stdout",
     "output_type": "stream",
     "text": [
      "[[258  71]\n",
      " [ 63  80]]\n",
      "Accuracy: 71.61%\n",
      "Recall: 55.94%\n",
      "Specificity: 78.42%\n"
     ]
    }
   ],
   "source": [
    "# Naive-Bayes\n",
    "from sklearn.naive_bayes import GaussianNB\n",
    "classifierNB3 = GaussianNB()\n",
    "classifierNB3.fit(x_train3, y_train3)\n",
    "\n",
    "y_pred_NB3 = classifierNB3.predict(x_test3)\n",
    "conf_mat_NB3 = confusion_matrix(y_test3, y_pred_NB3)\n",
    "print(conf_mat_NB3)\n",
    "print(\"Accuracy: {:.2f}%\".format(accuracy_score(y_test3, y_pred_NB3)*100))\n",
    "\n",
    "# Sensitivty & Specificity\n",
    "Tn_NB3, Fp_NB3, Fn_NB3, Tp_NB3 = confusion_matrix(y_test3, y_pred_NB3).ravel()\n",
    "SensitivityNB3 = recall_score(y_test3, y_pred_NB3)*100\n",
    "SpecificityNB3 = (Tn_NB3/(Tn_NB3 + Fp_NB3))*100 \n",
    "print(\"Recall: {:.2f}%\".format(SensitivityNB3))\n",
    "print(\"Specificity: {:.2f}%\".format(SpecificityNB3))"
   ]
  },
  {
   "cell_type": "code",
   "execution_count": 87,
   "metadata": {},
   "outputs": [
    {
     "name": "stdout",
     "output_type": "stream",
     "text": [
      "Accuracy: 69.28%\n",
      "Standard Deviation: 3.92%\n",
      "Recall: 64.80%\n",
      "Specificity: 76.56%\n"
     ]
    }
   ],
   "source": [
    "# Cross-fold validation NB\n",
    "cv_acc_NB3 = cross_val_score(estimator = classifierNB3, X = x_train3, y = y_train3, cv = 10)\n",
    "cv_recalls_NB3 = cross_val_score(classifierNB3, x_train3, y_train3, cv=10, scoring = 'recall_macro')\n",
    "cv_spec_NB3 = cross_val_score(classifierNB3, x_train3, y_train3, cv=10, scoring = scorer)\n",
    "\n",
    "print(\"Accuracy: {:.2f}%\".format(cv_acc_NB3.mean()*100))\n",
    "print(\"Standard Deviation: {:.2f}%\".format(cv_acc_NB3.std()*100))\n",
    "print(\"Recall: {:.2f}%\".format(cv_recalls_NB3.mean()*100))\n",
    "print(\"Specificity: {:.2f}%\".format(cv_spec_NB3.mean()*100))"
   ]
  },
  {
   "cell_type": "code",
   "execution_count": 88,
   "metadata": {},
   "outputs": [
    {
     "name": "stdout",
     "output_type": "stream",
     "text": [
      "[[296  33]\n",
      " [ 90  53]]\n",
      "Accuracy: 73.94%\n",
      "Recall: 37.06%\n",
      "Specificity: 89.97%\n"
     ]
    }
   ],
   "source": [
    "# SVM\n",
    "from sklearn.svm import SVC\n",
    "classifierSVM3 = SVC(kernel = 'rbf', random_state=0)\n",
    "classifierSVM3.fit(x_train3, y_train3)\n",
    "\n",
    "y_predSVM3 = classifierSVM3.predict(x_test3)\n",
    "conf_matSVM3 = confusion_matrix(y_test3, y_predSVM3)\n",
    "print(conf_matSVM3)\n",
    "print((\"Accuracy: {:.2f}%\".format(accuracy_score(y_test3, y_predSVM3)*100)))\n",
    "\n",
    "# Sensitivty & Specificity\n",
    "Tn_SVM3, Fp_SVM3, Fn_SVM3, Tp_SVM3 = confusion_matrix(y_test3, y_predSVM3).ravel()\n",
    "SensitivitySVM3 = recall_score(y_test3, y_predSVM3)*100\n",
    "SpecificitySVM3 = (Tn_SVM3/(Tn_SVM3 + Fp_SVM3))*100 \n",
    "print(\"Recall: {:.2f}%\".format(SensitivitySVM3))\n",
    "print(\"Specificity: {:.2f}%\".format(SpecificitySVM3))"
   ]
  },
  {
   "cell_type": "code",
   "execution_count": 89,
   "metadata": {},
   "outputs": [
    {
     "name": "stdout",
     "output_type": "stream",
     "text": [
      "Accuracy: 71.48%\n",
      "Standard Deviation: 2.34%\n",
      "Recall: 60.14%\n",
      "Specificity: 89.77%\n"
     ]
    }
   ],
   "source": [
    "# Cross-fold validation SVM\n",
    "cv_acc_SVM3 = cross_val_score(estimator = classifierSVM3, X = x_train3, y = y_train3, cv = 10)\n",
    "cv_recalls_SVM3 = cross_val_score(classifierSVM3, x_train3, y_train3, cv=10, scoring = 'recall_macro')\n",
    "cv_spec_SVM3 = cross_val_score(classifierSVM3, x_train3, y_train3, cv=10, scoring = scorer)\n",
    "\n",
    "print(\"Accuracy: {:.2f}%\".format(cv_acc_SVM3.mean()*100))\n",
    "print(\"Standard Deviation: {:.2f}%\".format(cv_acc_SVM3.std()*100))\n",
    "print(\"Recall: {:.2f}%\".format(cv_recalls_SVM3.mean()*100))\n",
    "print(\"Specificity: {:.2f}%\".format(cv_spec_SVM3.mean()*100))"
   ]
  },
  {
   "cell_type": "code",
   "execution_count": 90,
   "metadata": {},
   "outputs": [
    {
     "name": "stdout",
     "output_type": "stream",
     "text": [
      "[[272  57]\n",
      " [ 80  63]]\n",
      "Accuracy: 70.97%\n",
      "Recall: 44.06%\n",
      "Specificity: 82.67%\n"
     ]
    }
   ],
   "source": [
    "# XGBboost\n",
    "import xgboost as xgb\n",
    "classifierXGB3 = xgb.XGBClassifier()\n",
    "classifierXGB3.fit(x_train3, y_train3)\n",
    "\n",
    "y_predXGB3 = classifierXGB3.predict(x_test3)\n",
    "conf_matXGB3 = confusion_matrix(y_test3, y_predXGB3)\n",
    "print(conf_matXGB3)\n",
    "print((\"Accuracy: {:.2f}%\".format(accuracy_score(y_test3, y_predXGB3)*100)))\n",
    "\n",
    "# Sensitivty & Specificity\n",
    "Tn_XGB3, Fp_XGB3, Fn_XGB3, Tp_XGB3 = confusion_matrix(y_test3, y_predXGB3).ravel()\n",
    "SensitivityXGB3 = recall_score(y_test3, y_predXGB3)*100\n",
    "SpecificityXGB3 = (Tn_XGB3/(Tn_XGB3 + Fp_XGB3))*100 \n",
    "print(\"Recall: {:.2f}%\".format(SensitivityXGB3))\n",
    "print(\"Specificity: {:.2f}%\".format(SpecificityXGB3))"
   ]
  },
  {
   "cell_type": "code",
   "execution_count": 91,
   "metadata": {},
   "outputs": [
    {
     "name": "stdout",
     "output_type": "stream",
     "text": [
      "Accuracy: 67.60%\n",
      "Standard Deviation: 4.01%\n",
      "Recall: 59.44%\n",
      "Specificity: 80.76%\n"
     ]
    }
   ],
   "source": [
    "# Cross-fold validation XGBoost\n",
    "cv_acc_XGB3 = cross_val_score(estimator = classifierXGB3, X = x_train3, y = y_train3, cv = 10)\n",
    "cv_recalls_XGB3 = cross_val_score(classifierXGB3, x_train3, y_train3, cv=10, scoring = 'recall_macro')\n",
    "cv_spec_XGB3 = cross_val_score(classifierXGB3, x_train3, y_train3, cv=10, scoring = scorer)\n",
    "\n",
    "print(\"Accuracy: {:.2f}%\".format(cv_acc_XGB3.mean()*100))\n",
    "print(\"Standard Deviation: {:.2f}%\".format(cv_acc_XGB3.std()*100))\n",
    "print(\"Recall: {:.2f}%\".format(cv_recalls_XGB3.mean()*100))\n",
    "print(\"Specificity: {:.2f}%\".format(cv_spec_XGB3.mean()*100))"
   ]
  }
 ],
 "metadata": {
  "kernelspec": {
   "display_name": "Python 3.10.4 64-bit",
   "language": "python",
   "name": "python3"
  },
  "language_info": {
   "codemirror_mode": {
    "name": "ipython",
    "version": 3
   },
   "file_extension": ".py",
   "mimetype": "text/x-python",
   "name": "python",
   "nbconvert_exporter": "python",
   "pygments_lexer": "ipython3",
   "version": "3.10.4"
  },
  "orig_nbformat": 4,
  "vscode": {
   "interpreter": {
    "hash": "52192ef22709f95f89610121f4a1d8588d161d31b8ddbff6c146c7538d5f4a3a"
   }
  }
 },
 "nbformat": 4,
 "nbformat_minor": 2
}
